{
 "cells": [
  {
   "cell_type": "code",
   "execution_count": 1,
   "id": "61f52b10",
   "metadata": {},
   "outputs": [],
   "source": [
    "import geopandas\n",
    "import matplotlib.pyplot as plt\n",
    "import pandas as pd\n",
    "\n",
    "from pathlib import Path"
   ]
  },
  {
   "cell_type": "code",
   "execution_count": 2,
   "id": "9b8c810f",
   "metadata": {},
   "outputs": [],
   "source": [
    "data_dp = Path(\"../data/\")"
   ]
  },
  {
   "cell_type": "markdown",
   "id": "9f756448",
   "metadata": {},
   "source": [
    "# Get library information"
   ]
  },
  {
   "cell_type": "code",
   "execution_count": 3,
   "id": "8a01525e",
   "metadata": {},
   "outputs": [],
   "source": [
    "library_df = pd.read_csv(data_dp / Path(\"library.csv\"), index_col=0, na_filter= False)"
   ]
  },
  {
   "cell_type": "code",
   "execution_count": 4,
   "id": "212d35ba",
   "metadata": {},
   "outputs": [
    {
     "data": {
      "text/html": [
       "<div>\n",
       "<style scoped>\n",
       "    .dataframe tbody tr th:only-of-type {\n",
       "        vertical-align: middle;\n",
       "    }\n",
       "\n",
       "    .dataframe tbody tr th {\n",
       "        vertical-align: top;\n",
       "    }\n",
       "\n",
       "    .dataframe thead th {\n",
       "        text-align: right;\n",
       "    }\n",
       "</style>\n",
       "<table border=\"1\" class=\"dataframe\">\n",
       "  <thead>\n",
       "    <tr style=\"text-align: right;\">\n",
       "      <th></th>\n",
       "      <th>slides</th>\n",
       "      <th>speaker</th>\n",
       "      <th>title</th>\n",
       "      <th>date</th>\n",
       "      <th>cohort</th>\n",
       "      <th>tag</th>\n",
       "      <th>subtag</th>\n",
       "      <th>recording</th>\n",
       "    </tr>\n",
       "  </thead>\n",
       "  <tbody>\n",
       "    <tr>\n",
       "      <th>0</th>\n",
       "      <td>https://docs.google.com/presentation/d/1w_WWb7...</td>\n",
       "      <td>malvikasharan</td>\n",
       "      <td>Welcome to OLS!</td>\n",
       "      <td>January 29, 2020</td>\n",
       "      <td>ols-1</td>\n",
       "      <td>Not sorted</td>\n",
       "      <td>Not tagged</td>\n",
       "      <td></td>\n",
       "    </tr>\n",
       "    <tr>\n",
       "      <th>1</th>\n",
       "      <td>https://docs.google.com/presentation/d/14Lsolq...</td>\n",
       "      <td>yochannah</td>\n",
       "      <td>Introducing Open Canvas</td>\n",
       "      <td>January 29, 2020</td>\n",
       "      <td>ols-1</td>\n",
       "      <td>Not sorted</td>\n",
       "      <td>Not tagged</td>\n",
       "      <td></td>\n",
       "    </tr>\n",
       "    <tr>\n",
       "      <th>2</th>\n",
       "      <td>https://docs.google.com/presentation/d/1IqvBjH...</td>\n",
       "      <td>bebatut</td>\n",
       "      <td>Road Mapping</td>\n",
       "      <td>January 29, 2020</td>\n",
       "      <td>ols-1</td>\n",
       "      <td>Not sorted</td>\n",
       "      <td>Not tagged</td>\n",
       "      <td></td>\n",
       "    </tr>\n",
       "    <tr>\n",
       "      <th>3</th>\n",
       "      <td>https://docs.google.com/presentation/d/1ymSOc9...</td>\n",
       "      <td>joshsimmons</td>\n",
       "      <td>A Primer on Open Licenses</td>\n",
       "      <td>February 12, 2020</td>\n",
       "      <td>ols-1</td>\n",
       "      <td>Not sorted</td>\n",
       "      <td>Not tagged</td>\n",
       "      <td></td>\n",
       "    </tr>\n",
       "    <tr>\n",
       "      <th>4</th>\n",
       "      <td>https://docs.google.com/presentation/d/1APGIvU...</td>\n",
       "      <td>mkuzak</td>\n",
       "      <td>READMEs for Open Projects</td>\n",
       "      <td>February 12, 2020</td>\n",
       "      <td>ols-1</td>\n",
       "      <td>Not sorted</td>\n",
       "      <td>Not tagged</td>\n",
       "      <td></td>\n",
       "    </tr>\n",
       "    <tr>\n",
       "      <th>...</th>\n",
       "      <td>...</td>\n",
       "      <td>...</td>\n",
       "      <td>...</td>\n",
       "      <td>...</td>\n",
       "      <td>...</td>\n",
       "      <td>...</td>\n",
       "      <td>...</td>\n",
       "      <td>...</td>\n",
       "    </tr>\n",
       "    <tr>\n",
       "      <th>201</th>\n",
       "      <td>https://docs.google.com/presentation/d/1MzbVKP...</td>\n",
       "      <td>danielagduca</td>\n",
       "      <td>Open secrets to finding your path</td>\n",
       "      <td>November 15, 2022</td>\n",
       "      <td>ols-6</td>\n",
       "      <td>Open Leadership</td>\n",
       "      <td>Open Leadership</td>\n",
       "      <td></td>\n",
       "    </tr>\n",
       "    <tr>\n",
       "      <th>202</th>\n",
       "      <td></td>\n",
       "      <td></td>\n",
       "      <td>Post-academia career path, Social entrepreneur...</td>\n",
       "      <td>April 25, 2023</td>\n",
       "      <td>ols-7</td>\n",
       "      <td>Open Leadership</td>\n",
       "      <td>Open Leadership</td>\n",
       "      <td></td>\n",
       "    </tr>\n",
       "    <tr>\n",
       "      <th>203</th>\n",
       "      <td></td>\n",
       "      <td></td>\n",
       "      <td>Academic leadership, group or project leaders</td>\n",
       "      <td>April 25, 2023</td>\n",
       "      <td>ols-7</td>\n",
       "      <td>Open Leadership</td>\n",
       "      <td>Open Leadership</td>\n",
       "      <td></td>\n",
       "    </tr>\n",
       "    <tr>\n",
       "      <th>204</th>\n",
       "      <td></td>\n",
       "      <td></td>\n",
       "      <td>Community building, Science Communication</td>\n",
       "      <td>April 25, 2023</td>\n",
       "      <td>ols-7</td>\n",
       "      <td>Open Leadership</td>\n",
       "      <td>Open Leadership</td>\n",
       "      <td></td>\n",
       "    </tr>\n",
       "    <tr>\n",
       "      <th>205</th>\n",
       "      <td></td>\n",
       "      <td></td>\n",
       "      <td>Policymakers, funders, meta-researchers</td>\n",
       "      <td>April 25, 2023</td>\n",
       "      <td>ols-7</td>\n",
       "      <td>Open Leadership</td>\n",
       "      <td>Open Leadership</td>\n",
       "      <td></td>\n",
       "    </tr>\n",
       "  </tbody>\n",
       "</table>\n",
       "<p>206 rows × 8 columns</p>\n",
       "</div>"
      ],
      "text/plain": [
       "                                                slides        speaker  \\\n",
       "0    https://docs.google.com/presentation/d/1w_WWb7...  malvikasharan   \n",
       "1    https://docs.google.com/presentation/d/14Lsolq...      yochannah   \n",
       "2    https://docs.google.com/presentation/d/1IqvBjH...        bebatut   \n",
       "3    https://docs.google.com/presentation/d/1ymSOc9...    joshsimmons   \n",
       "4    https://docs.google.com/presentation/d/1APGIvU...         mkuzak   \n",
       "..                                                 ...            ...   \n",
       "201  https://docs.google.com/presentation/d/1MzbVKP...   danielagduca   \n",
       "202                                                                     \n",
       "203                                                                     \n",
       "204                                                                     \n",
       "205                                                                     \n",
       "\n",
       "                                                 title               date  \\\n",
       "0                                      Welcome to OLS!   January 29, 2020   \n",
       "1                              Introducing Open Canvas   January 29, 2020   \n",
       "2                                         Road Mapping   January 29, 2020   \n",
       "3                            A Primer on Open Licenses  February 12, 2020   \n",
       "4                            READMEs for Open Projects  February 12, 2020   \n",
       "..                                                 ...                ...   \n",
       "201                  Open secrets to finding your path  November 15, 2022   \n",
       "202  Post-academia career path, Social entrepreneur...     April 25, 2023   \n",
       "203      Academic leadership, group or project leaders     April 25, 2023   \n",
       "204          Community building, Science Communication     April 25, 2023   \n",
       "205            Policymakers, funders, meta-researchers     April 25, 2023   \n",
       "\n",
       "    cohort              tag           subtag recording  \n",
       "0    ols-1       Not sorted       Not tagged            \n",
       "1    ols-1       Not sorted       Not tagged            \n",
       "2    ols-1       Not sorted       Not tagged            \n",
       "3    ols-1       Not sorted       Not tagged            \n",
       "4    ols-1       Not sorted       Not tagged            \n",
       "..     ...              ...              ...       ...  \n",
       "201  ols-6  Open Leadership  Open Leadership            \n",
       "202  ols-7  Open Leadership  Open Leadership            \n",
       "203  ols-7  Open Leadership  Open Leadership            \n",
       "204  ols-7  Open Leadership  Open Leadership            \n",
       "205  ols-7  Open Leadership  Open Leadership            \n",
       "\n",
       "[206 rows x 8 columns]"
      ]
     },
     "execution_count": 4,
     "metadata": {},
     "output_type": "execute_result"
    }
   ],
   "source": [
    "library_df"
   ]
  },
  {
   "cell_type": "code",
   "execution_count": 10,
   "id": "1ae27d96",
   "metadata": {
    "scrolled": true
   },
   "outputs": [
    {
     "data": {
      "text/html": [
       "<div>\n",
       "<style scoped>\n",
       "    .dataframe tbody tr th:only-of-type {\n",
       "        vertical-align: middle;\n",
       "    }\n",
       "\n",
       "    .dataframe tbody tr th {\n",
       "        vertical-align: top;\n",
       "    }\n",
       "\n",
       "    .dataframe thead th {\n",
       "        text-align: right;\n",
       "    }\n",
       "</style>\n",
       "<table border=\"1\" class=\"dataframe\">\n",
       "  <thead>\n",
       "    <tr style=\"text-align: right;\">\n",
       "      <th></th>\n",
       "      <th>slides</th>\n",
       "      <th>title</th>\n",
       "      <th>date</th>\n",
       "      <th>cohort</th>\n",
       "      <th>tag</th>\n",
       "      <th>subtag</th>\n",
       "      <th>recording</th>\n",
       "    </tr>\n",
       "    <tr>\n",
       "      <th>speaker</th>\n",
       "      <th></th>\n",
       "      <th></th>\n",
       "      <th></th>\n",
       "      <th></th>\n",
       "      <th></th>\n",
       "      <th></th>\n",
       "      <th></th>\n",
       "    </tr>\n",
       "  </thead>\n",
       "  <tbody>\n",
       "    <tr>\n",
       "      <th></th>\n",
       "      <td>62</td>\n",
       "      <td>62</td>\n",
       "      <td>62</td>\n",
       "      <td>62</td>\n",
       "      <td>62</td>\n",
       "      <td>62</td>\n",
       "      <td>62</td>\n",
       "    </tr>\n",
       "    <tr>\n",
       "      <th>ajstewartlang</th>\n",
       "      <td>3</td>\n",
       "      <td>3</td>\n",
       "      <td>3</td>\n",
       "      <td>3</td>\n",
       "      <td>3</td>\n",
       "      <td>3</td>\n",
       "      <td>3</td>\n",
       "    </tr>\n",
       "    <tr>\n",
       "      <th>alexholinski</th>\n",
       "      <td>1</td>\n",
       "      <td>1</td>\n",
       "      <td>1</td>\n",
       "      <td>1</td>\n",
       "      <td>1</td>\n",
       "      <td>1</td>\n",
       "      <td>1</td>\n",
       "    </tr>\n",
       "    <tr>\n",
       "      <th>alexwlchan</th>\n",
       "      <td>5</td>\n",
       "      <td>5</td>\n",
       "      <td>5</td>\n",
       "      <td>5</td>\n",
       "      <td>5</td>\n",
       "      <td>5</td>\n",
       "      <td>5</td>\n",
       "    </tr>\n",
       "    <tr>\n",
       "      <th>amchagas</th>\n",
       "      <td>1</td>\n",
       "      <td>1</td>\n",
       "      <td>1</td>\n",
       "      <td>1</td>\n",
       "      <td>1</td>\n",
       "      <td>1</td>\n",
       "      <td>1</td>\n",
       "    </tr>\n",
       "    <tr>\n",
       "      <th>...</th>\n",
       "      <td>...</td>\n",
       "      <td>...</td>\n",
       "      <td>...</td>\n",
       "      <td>...</td>\n",
       "      <td>...</td>\n",
       "      <td>...</td>\n",
       "      <td>...</td>\n",
       "    </tr>\n",
       "    <tr>\n",
       "      <th>trallard</th>\n",
       "      <td>2</td>\n",
       "      <td>2</td>\n",
       "      <td>2</td>\n",
       "      <td>2</td>\n",
       "      <td>2</td>\n",
       "      <td>2</td>\n",
       "      <td>2</td>\n",
       "    </tr>\n",
       "    <tr>\n",
       "      <th>unode</th>\n",
       "      <td>3</td>\n",
       "      <td>3</td>\n",
       "      <td>3</td>\n",
       "      <td>3</td>\n",
       "      <td>3</td>\n",
       "      <td>3</td>\n",
       "      <td>3</td>\n",
       "    </tr>\n",
       "    <tr>\n",
       "      <th>wingram</th>\n",
       "      <td>1</td>\n",
       "      <td>1</td>\n",
       "      <td>1</td>\n",
       "      <td>1</td>\n",
       "      <td>1</td>\n",
       "      <td>1</td>\n",
       "      <td>1</td>\n",
       "    </tr>\n",
       "    <tr>\n",
       "      <th>yochannah</th>\n",
       "      <td>14</td>\n",
       "      <td>14</td>\n",
       "      <td>14</td>\n",
       "      <td>14</td>\n",
       "      <td>14</td>\n",
       "      <td>14</td>\n",
       "      <td>14</td>\n",
       "    </tr>\n",
       "    <tr>\n",
       "      <th>yvanlebras</th>\n",
       "      <td>1</td>\n",
       "      <td>1</td>\n",
       "      <td>1</td>\n",
       "      <td>1</td>\n",
       "      <td>1</td>\n",
       "      <td>1</td>\n",
       "      <td>1</td>\n",
       "    </tr>\n",
       "  </tbody>\n",
       "</table>\n",
       "<p>84 rows × 7 columns</p>\n",
       "</div>"
      ],
      "text/plain": [
       "               slides  title  date  cohort  tag  subtag  recording\n",
       "speaker                                                           \n",
       "                   62     62    62      62   62      62         62\n",
       "ajstewartlang       3      3     3       3    3       3          3\n",
       "alexholinski        1      1     1       1    1       1          1\n",
       "alexwlchan          5      5     5       5    5       5          5\n",
       "amchagas            1      1     1       1    1       1          1\n",
       "...               ...    ...   ...     ...  ...     ...        ...\n",
       "trallard            2      2     2       2    2       2          2\n",
       "unode               3      3     3       3    3       3          3\n",
       "wingram             1      1     1       1    1       1          1\n",
       "yochannah          14     14    14      14   14      14         14\n",
       "yvanlebras          1      1     1       1    1       1          1\n",
       "\n",
       "[84 rows x 7 columns]"
      ]
     },
     "execution_count": 10,
     "metadata": {},
     "output_type": "execute_result"
    }
   ],
   "source": [
    "library_df.groupby(by='speaker').count()"
   ]
  },
  {
   "cell_type": "markdown",
   "id": "1671c6b5",
   "metadata": {},
   "source": [
    "# Explore YouTube stats"
   ]
  },
  {
   "cell_type": "code",
   "execution_count": 11,
   "id": "fd5ef371",
   "metadata": {},
   "outputs": [],
   "source": [
    "yt_stat_df = pd.read_csv(data_dp / Path(\"youtube_stats.csv\"), index_col=0, na_filter= False)"
   ]
  },
  {
   "cell_type": "markdown",
   "id": "44860bfa",
   "metadata": {},
   "source": [
    "Number of videos"
   ]
  },
  {
   "cell_type": "code",
   "execution_count": 19,
   "id": "85cb10a2",
   "metadata": {},
   "outputs": [
    {
     "data": {
      "text/plain": [
       "142"
      ]
     },
     "execution_count": 19,
     "metadata": {},
     "output_type": "execute_result"
    }
   ],
   "source": [
    "len(yt_stat_df)"
   ]
  },
  {
   "cell_type": "markdown",
   "id": "7594fe48",
   "metadata": {},
   "source": [
    "Total video duration"
   ]
  },
  {
   "cell_type": "code",
   "execution_count": 18,
   "id": "d61188b7",
   "metadata": {},
   "outputs": [
    {
     "data": {
      "text/plain": [
       "97.80277777777778"
      ]
     },
     "execution_count": 18,
     "metadata": {},
     "output_type": "execute_result"
    }
   ],
   "source": [
    "sum(yt_stat_df.duration)/(3600)"
   ]
  },
  {
   "cell_type": "markdown",
   "id": "b825ef4d",
   "metadata": {},
   "source": [
    "Total number of view"
   ]
  },
  {
   "cell_type": "code",
   "execution_count": 14,
   "id": "dd5fa317",
   "metadata": {},
   "outputs": [
    {
     "data": {
      "text/plain": [
       "9134"
      ]
     },
     "execution_count": 14,
     "metadata": {},
     "output_type": "execute_result"
    }
   ],
   "source": [
    "sum(yt_stat_df.view_count)"
   ]
  }
 ],
 "metadata": {
  "kernelspec": {
   "display_name": "Python 3 (ipykernel)",
   "language": "python",
   "name": "python3"
  },
  "language_info": {
   "codemirror_mode": {
    "name": "ipython",
    "version": 3
   },
   "file_extension": ".py",
   "mimetype": "text/x-python",
   "name": "python",
   "nbconvert_exporter": "python",
   "pygments_lexer": "ipython3",
   "version": "3.11.0"
  }
 },
 "nbformat": 4,
 "nbformat_minor": 5
}
